{
 "cells": [
  {
   "cell_type": "code",
   "execution_count": 1,
   "metadata": {},
   "outputs": [],
   "source": [
    "import pyvista as pv"
   ]
  },
  {
   "cell_type": "code",
   "execution_count": 7,
   "metadata": {},
   "outputs": [
    {
     "name": "stderr",
     "output_type": "stream",
     "text": [
      "\u001b[0m\u001b[33m2024-06-07 10:09:27.361 (1507.783s) [    7D0C4D32B600]       vtkOBJReader.cxx:215   WARN| vtkOBJReader (0x7d0bb6205860): unexpected data at end of line in OBJ file L.1\u001b[0m\n"
     ]
    },
    {
     "data": {
      "application/vnd.jupyter.widget-view+json": {
       "model_id": "a30c94b7c6fc4af596f38d0823ddbc87",
       "version_major": 2,
       "version_minor": 0
      },
      "text/plain": [
       "Widget(value='<iframe src=\"http://localhost:45491/index.html?ui=P_0x7d0be7375150_15&reconnect=auto\" class=\"pyv…"
      ]
     },
     "metadata": {},
     "output_type": "display_data"
    },
    {
     "data": {
      "application/vnd.jupyter.widget-view+json": {
       "model_id": "6cfacb23744e46b08dc230644f8d8e7d",
       "version_major": 2,
       "version_minor": 0
      },
      "text/plain": [
       "Widget(value='<iframe src=\"http://localhost:45491/index.html?ui=P_0x7d0c04afc390_16&reconnect=auto\" class=\"pyv…"
      ]
     },
     "metadata": {},
     "output_type": "display_data"
    },
    {
     "data": {
      "application/vnd.jupyter.widget-view+json": {
       "model_id": "936453e4b3ef4db49e7333c3a91b9f4b",
       "version_major": 2,
       "version_minor": 0
      },
      "text/plain": [
       "Widget(value='<iframe src=\"http://localhost:45491/index.html?ui=P_0x7d0be695ff50_17&reconnect=auto\" class=\"pyv…"
      ]
     },
     "metadata": {},
     "output_type": "display_data"
    }
   ],
   "source": [
    "mesh = pv.read('3d_models/wine_glass.obj')\n",
    "corr_mesh = pv.read('3d_models/corr_wine_glass.obj')\n",
    "\n",
    "#reconstruct a surface \n",
    "corr_mesh = corr_mesh.extract_surface().smooth(n_iter = 10)\n",
    "mesh = mesh.extract_surface().smooth(n_iter = 10)\n",
    "\n",
    "cpos = mesh.plot(show_edges = False, color = 'lightblue')\n",
    "cpos2 = corr_mesh.plot(show_edges = False, color = 'lightblue')\n",
    "\n",
    "pl = pv.Plotter()\n",
    "_ = pl.add_mesh(corr_mesh, color = 'r', line_width = 3)\n",
    "#_ = pl.add_mesh(mesh, color = 'b', style = 'wireframe', line_width = 3)\n",
    "pl.camera_position = 'xy'\n",
    "pl.show(screenshot='SS.png')\n"
   ]
  },
  {
   "cell_type": "code",
   "execution_count": 8,
   "metadata": {},
   "outputs": [
    {
     "name": "stderr",
     "output_type": "stream",
     "text": [
      "\u001b[0m\u001b[33m2024-06-07 10:16:36.319 (1936.740s) [    7D0C4D32B600]       vtkOBJReader.cxx:215   WARN| vtkOBJReader (0x7d0ba82e6df0): unexpected data at end of line in OBJ file L.1\u001b[0m\n"
     ]
    }
   ],
   "source": [
    "mesh1 = pv.read('3d_models/wine_glass.obj')\n",
    "mesh2 = pv.read('3d_models/corr_wine_glass.obj')"
   ]
  },
  {
   "cell_type": "code",
   "execution_count": 9,
   "metadata": {},
   "outputs": [
    {
     "name": "stdout",
     "output_type": "stream",
     "text": [
      "Size of Mesh 1: [1.005026, 0.942254, 1.981641]\n",
      "Size of Mesh 2: [1.037522, 0.9708649999999999, 1.9899650000000002]\n"
     ]
    },
    {
     "data": {
      "text/plain": [
       "Actor (0x7d0c056a8ee0)\n",
       "  Center:                     (-0.04266900000000004, -0.036577000000000026, -0.0023724999999999996)\n",
       "  Pickable:                   True\n",
       "  Position:                   (0.0, 0.0, 0.0)\n",
       "  Scale:                      (1.0, 1.0, 1.0)\n",
       "  Visible:                    True\n",
       "  X Bounds                    -5.452E-01, 4.598E-01\n",
       "  Y Bounds                    -5.077E-01, 4.345E-01\n",
       "  Z Bounds                    -9.932E-01, 9.884E-01\n",
       "  User matrix:                Set\n",
       "  Has mapper:                 True\n",
       "\n",
       "Property (0x7d0c056a80a0)\n",
       "  Ambient:                     0.0\n",
       "  Ambient color:               Color(name='green', hex='#008000ff', opacity=255)\n",
       "  Anisotropy:                  0.0\n",
       "  Color:                       Color(name='green', hex='#008000ff', opacity=255)\n",
       "  Culling:                     \"none\"\n",
       "  Diffuse:                     1.0\n",
       "  Diffuse color:               Color(name='green', hex='#008000ff', opacity=255)\n",
       "  Edge color:                  Color(name='black', hex='#000000ff', opacity=255)\n",
       "  Edge opacity:                1.0\n",
       "  Interpolation:               InterpolationType.FLAT\n",
       "  Lighting:                    True\n",
       "  Line width:                  1.0\n",
       "  Metallic:                    0.0\n",
       "  Opacity:                     0.5\n",
       "  Point size:                  5.0\n",
       "  Render lines as tubes:       False\n",
       "  Render points as spheres:    False\n",
       "  Roughness:                   0.5\n",
       "  Show edges:                  False\n",
       "  Specular:                    0.0\n",
       "  Specular color:              Color(name='green', hex='#008000ff', opacity=255)\n",
       "  Specular power:              100.0\n",
       "  Style:                       \"Surface\"\n",
       "\n",
       "DataSetMapper (0x7d0c056a86a0)\n",
       "  Scalar visibility:           False\n",
       "  Scalar range:                (0.0, 1.0)\n",
       "  Interpolate before mapping:  True\n",
       "  Scalar map mode:             default\n",
       "  Color mode:                  direct\n",
       "\n",
       "Attached dataset:\n",
       "PolyData (0x7d0c08dde140)\n",
       "  N Cells:    54300\n",
       "  N Points:   162900\n",
       "  N Strips:   0\n",
       "  X Bounds:   -5.452e-01, 4.598e-01\n",
       "  Y Bounds:   -5.077e-01, 4.345e-01\n",
       "  Z Bounds:   -9.932e-01, 9.884e-01\n",
       "  N Arrays:   5"
      ]
     },
     "execution_count": 9,
     "metadata": {},
     "output_type": "execute_result"
    }
   ],
   "source": [
    "\n",
    "\n",
    "bounds1 = mesh1.bounds\n",
    "bounds2 = mesh2.bounds\n",
    "\n",
    "size1 = [bounds1[1] - bounds1[0], bounds1[3] - bounds1[2], bounds1[5] - bounds1[4]]\n",
    "size2 = [bounds2[1] - bounds2[0], bounds2[3] - bounds2[2], bounds2[5] - bounds2[4]]\n",
    "\n",
    "print(\"Size of Mesh 1:\", size1)\n",
    "print(\"Size of Mesh 2:\", size2)\n",
    "\n",
    "# Calculate scaling factors\n",
    "scaling_factors = [size2[0] / size1[0], size2[1] / size1[1], size2[2] / size1[2]]\n",
    "\n",
    "# To uniformly scale, choose the smallest scaling factor to avoid distortion\n",
    "uniform_scaling_factor = min(scaling_factors)\n",
    "\n",
    "# Scale Mesh 1\n",
    "scaled_mesh1 = mesh1.save('Scaled_mesh.obj')\n",
    "scaled_mesh1.scale([uniform_scaling_factor] * 3)\n",
    "\n",
    "# Visualize the original and scaled meshes\n",
    "plotter = pv.Plotter()\n",
    "plotter.add_mesh(mesh1, color='red', opacity=0.5, label='Original Mesh 1')\n",
    "plotter.add_mesh(mesh2, color='blue', opacity=0.5, label='Mesh 2')\n",
    "plotter.add_mesh(scaled_mesh1, color='green', opacity=0.5, label='Scaled Mesh 1')"
   ]
  },
  {
   "cell_type": "code",
   "execution_count": null,
   "metadata": {},
   "outputs": [],
   "source": []
  },
  {
   "cell_type": "code",
   "execution_count": null,
   "metadata": {},
   "outputs": [],
   "source": []
  },
  {
   "cell_type": "code",
   "execution_count": 17,
   "metadata": {},
   "outputs": [
    {
     "name": "stdout",
     "output_type": "stream",
     "text": [
      "(-0.528197, 0.509325, -0.514326, 0.456539, -1.002704, 0.987261)\n",
      "(-0.545182, 0.459844, -0.507704, 0.43455, -0.993193, 0.988448)\n",
      "(-0.964270906498901, -0.887645190015671, -0.9845986452632083)\n",
      "(-0.8434687865703562, -0.8559121062666435, -0.9952224794173942)\n"
     ]
    }
   ],
   "source": [
    "plotter.show(screenshot='airplane.png')"
   ]
  },
  {
   "cell_type": "code",
   "execution_count": 19,
   "metadata": {},
   "outputs": [
    {
     "data": {
      "application/vnd.jupyter.widget-view+json": {
       "model_id": "157f1da757fa40329752672e877b9544",
       "version_major": 2,
       "version_minor": 0
      },
      "text/plain": [
       "Widget(value='<iframe src=\"http://localhost:42611/index.html?ui=P_0x772f5ffd30d0_23&reconnect=auto\" class=\"pyv…"
      ]
     },
     "metadata": {},
     "output_type": "display_data"
    }
   ],
   "source": [
    "result = corr_mesh.boolean_difference(mesh)\n",
    "pl = pv.Plotter()\n",
    "_ = pl.add_mesh(result, color = 'r', style = 'wireframe', line_width = 3)\n",
    "pl.show()"
   ]
  },
  {
   "cell_type": "code",
   "execution_count": null,
   "metadata": {},
   "outputs": [],
   "source": []
  }
 ],
 "metadata": {
  "kernelspec": {
   "display_name": "Python 3",
   "language": "python",
   "name": "python3"
  },
  "language_info": {
   "codemirror_mode": {
    "name": "ipython",
    "version": 3
   },
   "file_extension": ".py",
   "mimetype": "text/x-python",
   "name": "python",
   "nbconvert_exporter": "python",
   "pygments_lexer": "ipython3",
   "version": "3.11.5"
  }
 },
 "nbformat": 4,
 "nbformat_minor": 2
}
